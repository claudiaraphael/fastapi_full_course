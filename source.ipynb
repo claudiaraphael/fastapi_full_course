{
 "cells": [
  {
   "cell_type": "markdown",
   "id": "a7670a1f",
   "metadata": {},
   "source": [
    "O tutorial é do vídeo do canal TechwithTim: https://www.youtube.com/watch?v=-ykeT6kk4bk"
   ]
  },
  {
   "cell_type": "markdown",
   "id": "b6fb5461",
   "metadata": {},
   "source": []
  }
 ],
 "metadata": {
  "language_info": {
   "name": "python"
  }
 },
 "nbformat": 4,
 "nbformat_minor": 5
}
